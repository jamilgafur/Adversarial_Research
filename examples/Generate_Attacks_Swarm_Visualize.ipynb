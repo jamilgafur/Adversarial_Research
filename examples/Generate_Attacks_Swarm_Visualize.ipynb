{
 "cells": [
  {
   "attachments": {},
   "cell_type": "markdown",
   "metadata": {},
   "source": [
    "# Step 1: Load the model"
   ]
  },
  {
   "cell_type": "code",
   "execution_count": 10,
   "metadata": {},
   "outputs": [
    {
     "name": "stdout",
     "output_type": "stream",
     "text": [
      "Sequential(\n",
      "  (0): Conv2d(1, 8, kernel_size=(3, 3), stride=(1, 1), padding=(1, 1))\n",
      "  (1): ReLU()\n",
      "  (2): MaxPool2d(kernel_size=2, stride=2, padding=0, dilation=1, ceil_mode=False)\n",
      "  (3): Conv2d(8, 16, kernel_size=(3, 3), stride=(1, 1), padding=(1, 1))\n",
      "  (4): ReLU()\n",
      "  (5): MaxPool2d(kernel_size=2, stride=2, padding=0, dilation=1, ceil_mode=False)\n",
      "  (6): Flatten(start_dim=1, end_dim=-1)\n",
      "  (7): Linear(in_features=784, out_features=10, bias=True)\n",
      "  (8): Softmax(dim=1)\n",
      ")\n"
     ]
    }
   ],
   "source": [
    "import os\n",
    "os.chdir('/workspaces/Adversraial_Research/')\n",
    "\n",
    "\n",
    "from Adversarial_Observation.utils import build_cnn\n",
    "import torch\n",
    "\n",
    "model = build_cnn()\n",
    "model.load_state_dict(torch.load('./examples/MNIST_CNN.pt'))\n",
    "print(model)"
   ]
  },
  {
   "attachments": {},
   "cell_type": "markdown",
   "metadata": {},
   "source": [
    "# Step 2: Generate a Cost Function"
   ]
  },
  {
   "cell_type": "code",
   "execution_count": 33,
   "metadata": {},
   "outputs": [],
   "source": [
    "import torch\n",
    "import numpy as np\n",
    "\n",
    "def costFunc(model: torch.nn.Module, input: torch.Tensor) -> np.ndarray:\n",
    "    \"\"\"\n",
    "    This function takes a model and a tensor input, reshapes the tensor to be a 28 x 28 image of batch size 1 and passes that through\n",
    "    the model. Then, it returns the output of the column of interest (endValue) as a numpy array.\n",
    "    \"\"\"\n",
    "    input = torch.reshape(input, (1, 1, 28, 28)).to(torch.float32)\n",
    "    out = model(input)\n",
    "    return out.detach().numpy()[0][2]"
   ]
  },
  {
   "attachments": {},
   "cell_type": "markdown",
   "metadata": {},
   "source": [
    "# Step 3: generate an attack swarm with random initializations"
   ]
  },
  {
   "cell_type": "code",
   "execution_count": 34,
   "metadata": {},
   "outputs": [
    {
     "name": "stdout",
     "output_type": "stream",
     "text": [
      "best initial guess is 3\n"
     ]
    }
   ],
   "source": [
    "import  Adversarial_Observation.Swarm_Observer.swarm as swarm\n",
    "\n",
    "numParticles = 10\n",
    "numDimensions = 784\n",
    "startingPositions = torch.rand(numParticles, numDimensions)\n",
    "velocity = torch.rand(numParticles, numDimensions)\n",
    "\n",
    "attackPSO = swarm.PSO(startingPositions, velocity, costFunc, model)\n",
    "\n",
    "bestinitialguess = torch.argmax(model(attackPSO.pos_best_g.reshape(1,1,28,28)))\n",
    "print(f'best initial guess is {bestinitialguess}')"
   ]
  },
  {
   "cell_type": "code",
   "execution_count": 35,
   "metadata": {},
   "outputs": [],
   "source": [
    "attackLoop = 1000\n",
    "for i in range(attackLoop):\n",
    "    attackPSO.step()\n"
   ]
  },
  {
   "cell_type": "code",
   "execution_count": 36,
   "metadata": {},
   "outputs": [
    {
     "name": "stdout",
     "output_type": "stream",
     "text": [
      "optimized guess is 2\n"
     ]
    }
   ],
   "source": [
    "optimizedGuess = torch.argmax(model(attackPSO.pos_best_g.reshape(1,1,28,28)))\n",
    "\n",
    "print(f'optimized guess is {optimizedGuess}')"
   ]
  },
  {
   "attachments": {},
   "cell_type": "markdown",
   "metadata": {},
   "source": [
    "# Step 4: generate an attack swarm with a single initialization"
   ]
  },
  {
   "cell_type": "code",
   "execution_count": 37,
   "metadata": {},
   "outputs": [],
   "source": [
    "from torchvision.datasets import MNIST\n",
    "from torchvision.transforms import Compose, Normalize, ToTensor\n",
    "\n",
    "transform = Compose([ToTensor(), Normalize((0.1307,), (0.3081,))])\n",
    "mnist = MNIST('./data', train=True, download=True, transform=transform)\n",
    "\n",
    "# get all the 4s\n",
    "four = mnist.data[mnist.targets == 3]"
   ]
  },
  {
   "cell_type": "code",
   "execution_count": 38,
   "metadata": {},
   "outputs": [
    {
     "name": "stdout",
     "output_type": "stream",
     "text": [
      "best initial guess is 3\n"
     ]
    }
   ],
   "source": [
    "\n",
    "numParticles = 10\n",
    "numDimensions = 784\n",
    "\n",
    "startingPositions = four[0:numParticles].reshape(numParticles, numDimensions).to(torch.float32)\n",
    "velocity = torch.rand(numParticles, numDimensions)\n",
    "\n",
    "attackPSO = swarm.PSO(startingPositions, velocity, costFunc, model)\n",
    "\n",
    "\n",
    "bestinitialguess = torch.argmax(model(attackPSO.pos_best_g.reshape(1,1,28,28)))\n",
    "print(f'best initial guess is {bestinitialguess}')\n"
   ]
  },
  {
   "cell_type": "code",
   "execution_count": 39,
   "metadata": {},
   "outputs": [],
   "source": [
    "for i in range(attackLoop):\n",
    "    attackPSO.step()\n"
   ]
  },
  {
   "cell_type": "code",
   "execution_count": 40,
   "metadata": {},
   "outputs": [
    {
     "name": "stdout",
     "output_type": "stream",
     "text": [
      "optimized guess is 2\n"
     ]
    }
   ],
   "source": [
    "optimizedGuess = torch.argmax(model(attackPSO.pos_best_g.reshape(1,1,28,28)))\n",
    "\n",
    "print(f'optimized guess is {optimizedGuess}')"
   ]
  },
  {
   "cell_type": "code",
   "execution_count": null,
   "metadata": {},
   "outputs": [],
   "source": []
  }
 ],
 "metadata": {
  "kernelspec": {
   "display_name": "base",
   "language": "python",
   "name": "python3"
  },
  "language_info": {
   "codemirror_mode": {
    "name": "ipython",
    "version": 3
   },
   "file_extension": ".py",
   "mimetype": "text/x-python",
   "name": "python",
   "nbconvert_exporter": "python",
   "pygments_lexer": "ipython3",
   "version": "3.9.13"
  },
  "orig_nbformat": 4
 },
 "nbformat": 4,
 "nbformat_minor": 2
}
